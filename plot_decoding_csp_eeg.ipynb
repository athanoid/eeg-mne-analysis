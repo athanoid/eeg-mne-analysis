{
  "nbformat": 4,
  "nbformat_minor": 0,
  "metadata": {
    "colab": {
      "name": "plot_decoding_csp_eeg.ipynb",
      "provenance": [],
      "mount_file_id": "1bOiU-XPieSLRT-8hzhalDFshH5UAZ-kH",
      "authorship_tag": "ABX9TyO/eFQDux7sUflRfwXI24Wt",
      "include_colab_link": true
    },
    "kernelspec": {
      "name": "python3",
      "display_name": "Python 3"
    }
  },
  "cells": [
    {
      "cell_type": "markdown",
      "metadata": {
        "id": "view-in-github",
        "colab_type": "text"
      },
      "source": [
        "<a href=\"https://colab.research.google.com/github/athanoid/eeg-mne-analysis/blob/master/plot_decoding_csp_eeg.ipynb\" target=\"_parent\"><img src=\"https://colab.research.google.com/assets/colab-badge.svg\" alt=\"Open In Colab\"/></a>"
      ]
    },
    {
      "cell_type": "code",
      "metadata": {
        "id": "xoodwSjDSlMi",
        "colab_type": "code",
        "colab": {
          "base_uri": "https://localhost:8080/",
          "height": 69
        },
        "outputId": "e326e485-d402-4ca1-d675-c02a70710f73"
      },
      "source": [
        "# Importing a library that is not in Colaboratory\n",
        "!pip install mne --upgrade"
      ],
      "execution_count": 39,
      "outputs": [
        {
          "output_type": "stream",
          "text": [
            "Requirement already up-to-date: mne in /usr/local/lib/python3.6/dist-packages (0.20.0)\n",
            "Requirement already satisfied, skipping upgrade: scipy>=0.17.1 in /usr/local/lib/python3.6/dist-packages (from mne) (1.4.1)\n",
            "Requirement already satisfied, skipping upgrade: numpy>=1.11.3 in /usr/local/lib/python3.6/dist-packages (from mne) (1.18.2)\n"
          ],
          "name": "stdout"
        }
      ]
    },
    {
      "cell_type": "code",
      "metadata": {
        "id": "ViJztVClPx-O",
        "colab_type": "code",
        "colab": {
          "base_uri": "https://localhost:8080/",
          "height": 173
        },
        "outputId": "af0176f6-e33f-4600-e396-13162c3047f4"
      },
      "source": [
        "'''\n",
        "===========================================================================\n",
        "Motor imagery decoding from EEG data using the Common Spatial Pattern (CSP)\n",
        "===========================================================================\n",
        "\n",
        "Decoding of motor imagery applied to EEG data decomposed using CSP.\n",
        "Here the classifier is applied to features extracted on CSP filtered signals.\n",
        "\n",
        "'''\n",
        "# Authors: Thanos <athanasios.vourvopoulos@tecnico.ulisboa.pt>\n",
        "#\n",
        "# License: BSD (3-clause)\n",
        "\n",
        "import numpy as np\n",
        "import matplotlib.pyplot as plt\n",
        "\n",
        "from sklearn.pipeline import Pipeline\n",
        "from sklearn.discriminant_analysis import LinearDiscriminantAnalysis\n",
        "from sklearn.model_selection import ShuffleSplit, cross_val_score\n",
        "\n",
        "from mne import Epochs, pick_types, events_from_annotations\n",
        "#from mne.channels import read_layout, read_montage, find_layout\n",
        "from mne.io import concatenate_raws, read_raw_gdf, read_raw_eeglab\n",
        "from mne.datasets import eegbci\n",
        "from mne.decoding import CSP\n",
        "\n",
        "print(__doc__)\n"
      ],
      "execution_count": 40,
      "outputs": [
        {
          "output_type": "stream",
          "text": [
            "\n",
            "===========================================================================\n",
            "Motor imagery decoding from EEG data using the Common Spatial Pattern (CSP)\n",
            "===========================================================================\n",
            "\n",
            "Decoding of motor imagery applied to EEG data decomposed using CSP.\n",
            "Here the classifier is applied to features extracted on CSP filtered signals.\n",
            "\n",
            "\n"
          ],
          "name": "stdout"
        }
      ]
    },
    {
      "cell_type": "code",
      "metadata": {
        "id": "jBZjHAWmVyn4",
        "colab_type": "code",
        "colab": {
          "base_uri": "https://localhost:8080/",
          "height": 452
        },
        "outputId": "6e7ea1a3-906a-4d30-ea00-5366f3796a6b"
      },
      "source": [
        "# #############################################################################\n",
        "# # Set parameters and read data\n",
        "root_path = 'https://my.laseeb.org/~thanos/bci/'\n",
        "data_path = root_path + 'data/'\n",
        "fileloc = data_path + 'ME-graz-block.gdf' # ME-graz-block.gdf , ME-graz-rand.gdf_proc.set\n",
        "\n",
        "print(fileloc)\n",
        "\n",
        "\n",
        "raw = read_raw_gdf(fileloc, stim_channel=-1, preload=True)\n",
        "#raw = mne.io.read_raw_eeglab(fileloc, preload=True)"
      ],
      "execution_count": 41,
      "outputs": [
        {
          "output_type": "stream",
          "text": [
            "https://my.laseeb.org/~thanos/bci/data/ME-graz-block.gdf\n",
            "Extracting EDF parameters from /content/https:/my.laseeb.org/~thanos/bci/data/ME-graz-block.gdf...\n",
            "GDF file detected\n"
          ],
          "name": "stdout"
        },
        {
          "output_type": "error",
          "ename": "FileNotFoundError",
          "evalue": "ignored",
          "traceback": [
            "\u001b[0;31m---------------------------------------------------------------------------\u001b[0m",
            "\u001b[0;31mFileNotFoundError\u001b[0m                         Traceback (most recent call last)",
            "\u001b[0;32m<ipython-input-41-e0a4d7464b6f>\u001b[0m in \u001b[0;36m<module>\u001b[0;34m()\u001b[0m\n\u001b[1;32m      6\u001b[0m \u001b[0;34m\u001b[0m\u001b[0m\n\u001b[1;32m      7\u001b[0m \u001b[0;34m\u001b[0m\u001b[0m\n\u001b[0;32m----> 8\u001b[0;31m \u001b[0mraw\u001b[0m \u001b[0;34m=\u001b[0m \u001b[0mread_raw_gdf\u001b[0m\u001b[0;34m(\u001b[0m\u001b[0mfileloc\u001b[0m\u001b[0;34m,\u001b[0m \u001b[0mstim_channel\u001b[0m\u001b[0;34m=\u001b[0m\u001b[0;34m-\u001b[0m\u001b[0;36m1\u001b[0m\u001b[0;34m,\u001b[0m \u001b[0mpreload\u001b[0m\u001b[0;34m=\u001b[0m\u001b[0;32mTrue\u001b[0m\u001b[0;34m)\u001b[0m\u001b[0;34m\u001b[0m\u001b[0;34m\u001b[0m\u001b[0m\n\u001b[0m\u001b[1;32m      9\u001b[0m \u001b[0;31m#raw = mne.io.read_raw_eeglab(fileloc, preload=True)\u001b[0m\u001b[0;34m\u001b[0m\u001b[0;34m\u001b[0m\u001b[0;34m\u001b[0m\u001b[0m\n",
            "\u001b[0;32m/usr/local/lib/python3.6/dist-packages/mne/io/edf/edf.py\u001b[0m in \u001b[0;36mread_raw_gdf\u001b[0;34m(input_fname, eog, misc, stim_channel, exclude, preload, verbose)\u001b[0m\n\u001b[1;32m   1325\u001b[0m     return RawGDF(input_fname=input_fname, eog=eog, misc=misc,\n\u001b[1;32m   1326\u001b[0m                   \u001b[0mstim_channel\u001b[0m\u001b[0;34m=\u001b[0m\u001b[0mstim_channel\u001b[0m\u001b[0;34m,\u001b[0m \u001b[0mexclude\u001b[0m\u001b[0;34m=\u001b[0m\u001b[0mexclude\u001b[0m\u001b[0;34m,\u001b[0m \u001b[0mpreload\u001b[0m\u001b[0;34m=\u001b[0m\u001b[0mpreload\u001b[0m\u001b[0;34m,\u001b[0m\u001b[0;34m\u001b[0m\u001b[0;34m\u001b[0m\u001b[0m\n\u001b[0;32m-> 1327\u001b[0;31m                   verbose=verbose)\n\u001b[0m\u001b[1;32m   1328\u001b[0m \u001b[0;34m\u001b[0m\u001b[0m\n\u001b[1;32m   1329\u001b[0m \u001b[0;34m\u001b[0m\u001b[0m\n",
            "\u001b[0;32m<decorator-gen-164>\u001b[0m in \u001b[0;36m__init__\u001b[0;34m(self, input_fname, eog, misc, stim_channel, exclude, preload, verbose)\u001b[0m\n",
            "\u001b[0;32m/usr/local/lib/python3.6/dist-packages/mne/io/edf/edf.py\u001b[0m in \u001b[0;36m__init__\u001b[0;34m(self, input_fname, eog, misc, stim_channel, exclude, preload, verbose)\u001b[0m\n\u001b[1;32m    187\u001b[0m         info, edf_info, orig_units = _get_info(input_fname,\n\u001b[1;32m    188\u001b[0m                                                \u001b[0mstim_channel\u001b[0m\u001b[0;34m,\u001b[0m \u001b[0meog\u001b[0m\u001b[0;34m,\u001b[0m \u001b[0mmisc\u001b[0m\u001b[0;34m,\u001b[0m\u001b[0;34m\u001b[0m\u001b[0;34m\u001b[0m\u001b[0m\n\u001b[0;32m--> 189\u001b[0;31m                                                exclude, preload)\n\u001b[0m\u001b[1;32m    190\u001b[0m         \u001b[0mlogger\u001b[0m\u001b[0;34m.\u001b[0m\u001b[0minfo\u001b[0m\u001b[0;34m(\u001b[0m\u001b[0;34m'Creating raw.info structure...'\u001b[0m\u001b[0;34m)\u001b[0m\u001b[0;34m\u001b[0m\u001b[0;34m\u001b[0m\u001b[0m\n\u001b[1;32m    191\u001b[0m \u001b[0;34m\u001b[0m\u001b[0m\n",
            "\u001b[0;32m/usr/local/lib/python3.6/dist-packages/mne/io/edf/edf.py\u001b[0m in \u001b[0;36m_get_info\u001b[0;34m(fname, stim_channel, eog, misc, exclude, preload)\u001b[0m\n\u001b[1;32m    375\u001b[0m     \u001b[0mmisc\u001b[0m \u001b[0;34m=\u001b[0m \u001b[0mmisc\u001b[0m \u001b[0;32mif\u001b[0m \u001b[0mmisc\u001b[0m \u001b[0;32mis\u001b[0m \u001b[0;32mnot\u001b[0m \u001b[0;32mNone\u001b[0m \u001b[0;32melse\u001b[0m \u001b[0;34m[\u001b[0m\u001b[0;34m]\u001b[0m\u001b[0;34m\u001b[0m\u001b[0;34m\u001b[0m\u001b[0m\n\u001b[1;32m    376\u001b[0m \u001b[0;34m\u001b[0m\u001b[0m\n\u001b[0;32m--> 377\u001b[0;31m     \u001b[0medf_info\u001b[0m\u001b[0;34m,\u001b[0m \u001b[0morig_units\u001b[0m \u001b[0;34m=\u001b[0m \u001b[0m_read_header\u001b[0m\u001b[0;34m(\u001b[0m\u001b[0mfname\u001b[0m\u001b[0;34m,\u001b[0m \u001b[0mexclude\u001b[0m\u001b[0;34m)\u001b[0m\u001b[0;34m\u001b[0m\u001b[0;34m\u001b[0m\u001b[0m\n\u001b[0m\u001b[1;32m    378\u001b[0m \u001b[0;34m\u001b[0m\u001b[0m\n\u001b[1;32m    379\u001b[0m     \u001b[0;31m# XXX: `tal_ch_names` to pass to `_check_stim_channel` should be computed\u001b[0m\u001b[0;34m\u001b[0m\u001b[0;34m\u001b[0m\u001b[0;34m\u001b[0m\u001b[0m\n",
            "\u001b[0;32m/usr/local/lib/python3.6/dist-packages/mne/io/edf/edf.py\u001b[0m in \u001b[0;36m_read_header\u001b[0;34m(fname, exclude)\u001b[0m\n\u001b[1;32m    364\u001b[0m         \u001b[0;32mreturn\u001b[0m \u001b[0m_read_edf_header\u001b[0m\u001b[0;34m(\u001b[0m\u001b[0mfname\u001b[0m\u001b[0;34m,\u001b[0m \u001b[0mexclude\u001b[0m\u001b[0;34m)\u001b[0m\u001b[0;34m\u001b[0m\u001b[0;34m\u001b[0m\u001b[0m\n\u001b[1;32m    365\u001b[0m     \u001b[0;32melif\u001b[0m \u001b[0mext\u001b[0m \u001b[0;32min\u001b[0m \u001b[0;34m(\u001b[0m\u001b[0;34m'gdf'\u001b[0m\u001b[0;34m)\u001b[0m\u001b[0;34m:\u001b[0m\u001b[0;34m\u001b[0m\u001b[0;34m\u001b[0m\u001b[0m\n\u001b[0;32m--> 366\u001b[0;31m         \u001b[0;32mreturn\u001b[0m \u001b[0m_read_gdf_header\u001b[0m\u001b[0;34m(\u001b[0m\u001b[0mfname\u001b[0m\u001b[0;34m,\u001b[0m \u001b[0mexclude\u001b[0m\u001b[0;34m)\u001b[0m\u001b[0;34m,\u001b[0m \u001b[0;32mNone\u001b[0m\u001b[0;34m\u001b[0m\u001b[0;34m\u001b[0m\u001b[0m\n\u001b[0m\u001b[1;32m    367\u001b[0m     \u001b[0;32melse\u001b[0m\u001b[0;34m:\u001b[0m\u001b[0;34m\u001b[0m\u001b[0;34m\u001b[0m\u001b[0m\n\u001b[1;32m    368\u001b[0m         raise NotImplementedError(\n",
            "\u001b[0;32m/usr/local/lib/python3.6/dist-packages/mne/io/edf/edf.py\u001b[0m in \u001b[0;36m_read_gdf_header\u001b[0;34m(fname, exclude)\u001b[0m\n\u001b[1;32m    664\u001b[0m     \u001b[0medf_info\u001b[0m \u001b[0;34m=\u001b[0m \u001b[0mdict\u001b[0m\u001b[0;34m(\u001b[0m\u001b[0;34m)\u001b[0m\u001b[0;34m\u001b[0m\u001b[0;34m\u001b[0m\u001b[0m\n\u001b[1;32m    665\u001b[0m     \u001b[0mevents\u001b[0m \u001b[0;34m=\u001b[0m \u001b[0;32mNone\u001b[0m\u001b[0;34m\u001b[0m\u001b[0;34m\u001b[0m\u001b[0m\n\u001b[0;32m--> 666\u001b[0;31m     \u001b[0;32mwith\u001b[0m \u001b[0mopen\u001b[0m\u001b[0;34m(\u001b[0m\u001b[0mfname\u001b[0m\u001b[0;34m,\u001b[0m \u001b[0;34m'rb'\u001b[0m\u001b[0;34m)\u001b[0m \u001b[0;32mas\u001b[0m \u001b[0mfid\u001b[0m\u001b[0;34m:\u001b[0m\u001b[0;34m\u001b[0m\u001b[0;34m\u001b[0m\u001b[0m\n\u001b[0m\u001b[1;32m    667\u001b[0m \u001b[0;34m\u001b[0m\u001b[0m\n\u001b[1;32m    668\u001b[0m         \u001b[0mversion\u001b[0m \u001b[0;34m=\u001b[0m \u001b[0mfid\u001b[0m\u001b[0;34m.\u001b[0m\u001b[0mread\u001b[0m\u001b[0;34m(\u001b[0m\u001b[0;36m8\u001b[0m\u001b[0;34m)\u001b[0m\u001b[0;34m.\u001b[0m\u001b[0mdecode\u001b[0m\u001b[0;34m(\u001b[0m\u001b[0;34m)\u001b[0m\u001b[0;34m\u001b[0m\u001b[0;34m\u001b[0m\u001b[0m\n",
            "\u001b[0;31mFileNotFoundError\u001b[0m: [Errno 2] No such file or directory: '/content/https:/my.laseeb.org/~thanos/bci/data/ME-graz-block.gdf'"
          ]
        }
      ]
    },
    {
      "cell_type": "code",
      "metadata": {
        "id": "7AU8Pu79Wcrz",
        "colab_type": "code",
        "colab": {}
      },
      "source": [
        "#create montage from channel name\n",
        "ch_names = raw.ch_names\n",
        "loc_names = read_montage(root_path + 'chanloc.loc')#32ch\n",
        "ch_loc = loc_names.ch_names\n",
        "c = dict(zip(ch_names, ch_loc)) #combine names with locations\n",
        "raw.rename_channels(c)\n",
        "montage = read_montage(ch_names=raw.ch_names, path=None, kind='standard_1020')\n",
        "raw.set_montage(montage)\n",
        "\n",
        "# strip channel names of \".\" characters\n",
        "#raw.rename_channels(lambda x: x.strip('.'))\n",
        "\n",
        "# Apply band-pass filter\n",
        "raw.filter(8., 30., fir_design='firwin', skip_by_annotation='edge')\n",
        "\n",
        "\n",
        "tmin, tmax = -1., 4.\n",
        "event_id = dict(left=5, right=6) # from OpenVibe data\n",
        "#events, _ = events_from_annotations(raw, event_id=dict(T1=5, T2=6))\n",
        "events, _ = events_from_annotations(raw, event_id='auto')\n",
        "\n",
        "picks = pick_types(raw.info, meg=False, eeg=True, stim=False, eog=False,\n",
        "                   exclude='bads')\n",
        "\n",
        "# Read epochs (train will be done only between 1 and 2s)\n",
        "# Testing will be done with a running classifier\n",
        "epochs = Epochs(raw, events, event_id, tmin, tmax, proj=True, picks=picks,\n",
        "                baseline=None, preload=True)\n",
        "epochs_train = epochs.copy().crop(tmin=1., tmax=2.)\n",
        "labels = epochs.events[:, -1] - 2"
      ],
      "execution_count": 0,
      "outputs": []
    },
    {
      "cell_type": "code",
      "metadata": {
        "id": "yVHRV_vbWypY",
        "colab_type": "code",
        "colab": {}
      },
      "source": [
        "###############################################################################\n",
        "# Classification with linear discrimant analysis\n",
        "\n",
        "# Define a monte-carlo cross-validation generator (reduce variance):\n",
        "scores = []\n",
        "epochs_data = epochs.get_data()\n",
        "epochs_data_train = epochs_train.get_data()\n",
        "cv = ShuffleSplit(10, test_size=0.2, random_state=42)\n",
        "cv_split = cv.split(epochs_data_train)\n",
        "\n",
        "# Assemble a classifier\n",
        "lda = LinearDiscriminantAnalysis()\n",
        "csp = CSP(n_components=2, reg=None, log=True, norm_trace=False)\n",
        "\n",
        "# Use scikit-learn Pipeline with cross_val_score function\n",
        "clf = Pipeline([('CSP', csp), ('LDA', lda)])\n",
        "scores = cross_val_score(clf, epochs_data_train, labels, cv=cv, n_jobs=1)\n",
        "\n",
        "# Printing the results\n",
        "class_balance = np.mean(labels == labels[0])\n",
        "class_balance = max(class_balance, 1. - class_balance)\n",
        "print(\"Classification accuracy: %f / Chance level: %f\" % (np.mean(scores),\n",
        "                                                          class_balance))\n",
        "\n",
        "# plot CSP patterns estimated on full data for visualization\n",
        "csp.fit_transform(epochs_data, labels)\n",
        "\n",
        "#layout = read_layout('EEG1005')\n",
        "layout = find_layout(raw.info, ch_type='eeg', exclude='bads')\n",
        "csp.plot_patterns(epochs.info, layout=layout, ch_type='eeg', units='Patterns (AU)', size=1.5)\n"
      ],
      "execution_count": 0,
      "outputs": []
    },
    {
      "cell_type": "code",
      "metadata": {
        "id": "xFYLACMfW1tQ",
        "colab_type": "code",
        "colab": {}
      },
      "source": [
        "###############################################################################\n",
        "# Look at performance over time\n",
        "\n",
        "sfreq = raw.info['sfreq']\n",
        "w_length = int(sfreq * 0.5)   # running classifier: window length\n",
        "w_step = int(sfreq * 0.1)  # running classifier: window step size\n",
        "w_start = np.arange(0, epochs_data.shape[2] - w_length, w_step)\n",
        "\n",
        "scores_windows = []\n",
        "\n",
        "for train_idx, test_idx in cv_split:\n",
        "    y_train, y_test = labels[train_idx], labels[test_idx]\n",
        "\n",
        "    X_train = csp.fit_transform(epochs_data_train[train_idx], y_train)\n",
        "    X_test = csp.transform(epochs_data_train[test_idx])\n",
        "\n",
        "    # fit classifier\n",
        "    lda.fit(X_train, y_train)\n",
        "\n",
        "    # running classifier: test classifier on sliding window\n",
        "    score_this_window = []\n",
        "    for n in w_start:\n",
        "        X_test = csp.transform(epochs_data[test_idx][:, :, n:(n + w_length)])\n",
        "        score_this_window.append(lda.score(X_test, y_test))\n",
        "    scores_windows.append(score_this_window)\n",
        "\n",
        "# Plot scores over time\n",
        "w_times = (w_start + w_length / 2.) / sfreq + epochs.tmin\n",
        "\n",
        "plt.figure()\n",
        "plt.plot(w_times, np.mean(scores_windows, 0), label='Score')\n",
        "plt.axvline(0, linestyle='--', color='k', label='Onset')\n",
        "plt.axhline(0.5, linestyle='-', color='k', label='Chance')\n",
        "plt.xlabel('time (s)')\n",
        "plt.ylabel('classification accuracy')\n",
        "plt.title('Classification score over time')\n",
        "plt.legend(loc='lower right')\n",
        "plt.show()"
      ],
      "execution_count": 0,
      "outputs": []
    }
  ]
}